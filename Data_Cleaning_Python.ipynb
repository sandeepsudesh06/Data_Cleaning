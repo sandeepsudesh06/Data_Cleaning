{
 "cells": [
  {
   "cell_type": "markdown",
   "metadata": {},
   "source": [
    "# Data Cleaning"
   ]
  },
  {
   "cell_type": "markdown",
   "metadata": {},
   "source": [
    "Data cleaning is the process of identifying and correcting or removing errors and inconsistencies from datasets. It is a critical step in any data analysis project, as dirty data can lead to inaccurate or misleading results. Common issues that require data cleaning include missing data, duplicate data, outliers, and inconsistent data formats. In this notebook, we will explore some of the key techniques and tools involved in data cleaning using Python.\""
   ]
  },
  {
   "cell_type": "markdown",
   "metadata": {},
   "source": [
    "**Important Note:** The slides in the deck have modified versions of the dataset to illustrate and provide examples for various errors to clean. The real dataset for this project may not have the same errors, so don't expect to find the exact same observations as in the slides."
   ]
  },
  {
   "cell_type": "markdown",
   "metadata": {},
   "source": [
    "    "
   ]
  },
  {
   "cell_type": "code",
   "execution_count": 1,
   "metadata": {},
   "outputs": [],
   "source": [
    "# First import the libraries you'll need\n",
    "import pandas as pd\n",
    "pd.set_option('display.max_columns', 100)\n",
    "\n",
    "import numpy as np\n",
    "\n",
    "from matplotlib import pyplot as plt\n",
    "%matplotlib inline\n",
    "\n",
    "import seaborn as sns"
   ]
  },
  {
   "cell_type": "code",
   "execution_count": 2,
   "metadata": {},
   "outputs": [
    {
     "data": {
      "text/html": [
       "<div>\n",
       "<style scoped>\n",
       "    .dataframe tbody tr th:only-of-type {\n",
       "        vertical-align: middle;\n",
       "    }\n",
       "\n",
       "    .dataframe tbody tr th {\n",
       "        vertical-align: top;\n",
       "    }\n",
       "\n",
       "    .dataframe thead th {\n",
       "        text-align: right;\n",
       "    }\n",
       "</style>\n",
       "<table border=\"1\" class=\"dataframe\">\n",
       "  <thead>\n",
       "    <tr style=\"text-align: right;\">\n",
       "      <th></th>\n",
       "      <th>price</th>\n",
       "      <th>year_sold</th>\n",
       "      <th>property_tax</th>\n",
       "      <th>insurance</th>\n",
       "      <th>beds</th>\n",
       "      <th>baths</th>\n",
       "      <th>sqft</th>\n",
       "      <th>year_built</th>\n",
       "      <th>lot_size</th>\n",
       "      <th>basement</th>\n",
       "      <th>property_type</th>\n",
       "    </tr>\n",
       "  </thead>\n",
       "  <tbody>\n",
       "    <tr>\n",
       "      <th>1878</th>\n",
       "      <td>385000</td>\n",
       "      <td>2002</td>\n",
       "      <td>1250</td>\n",
       "      <td>381</td>\n",
       "      <td>5</td>\n",
       "      <td>6</td>\n",
       "      <td>6381</td>\n",
       "      <td>2004</td>\n",
       "      <td>224334</td>\n",
       "      <td>1.0</td>\n",
       "      <td>Bunglow</td>\n",
       "    </tr>\n",
       "    <tr>\n",
       "      <th>1879</th>\n",
       "      <td>690000</td>\n",
       "      <td>2015</td>\n",
       "      <td>1553</td>\n",
       "      <td>473</td>\n",
       "      <td>5</td>\n",
       "      <td>6</td>\n",
       "      <td>6501</td>\n",
       "      <td>1956</td>\n",
       "      <td>23086</td>\n",
       "      <td>1.0</td>\n",
       "      <td>Bunglow</td>\n",
       "    </tr>\n",
       "    <tr>\n",
       "      <th>1880</th>\n",
       "      <td>600000</td>\n",
       "      <td>1999</td>\n",
       "      <td>942</td>\n",
       "      <td>287</td>\n",
       "      <td>5</td>\n",
       "      <td>6</td>\n",
       "      <td>7064</td>\n",
       "      <td>1995</td>\n",
       "      <td>217800</td>\n",
       "      <td>1.0</td>\n",
       "      <td>Bunglow</td>\n",
       "    </tr>\n",
       "    <tr>\n",
       "      <th>1881</th>\n",
       "      <td>759900</td>\n",
       "      <td>2009</td>\n",
       "      <td>803</td>\n",
       "      <td>245</td>\n",
       "      <td>5</td>\n",
       "      <td>6</td>\n",
       "      <td>7500</td>\n",
       "      <td>2006</td>\n",
       "      <td>8886</td>\n",
       "      <td>1.0</td>\n",
       "      <td>Bunglow</td>\n",
       "    </tr>\n",
       "    <tr>\n",
       "      <th>1882</th>\n",
       "      <td>735000</td>\n",
       "      <td>2015</td>\n",
       "      <td>1459</td>\n",
       "      <td>444</td>\n",
       "      <td>5</td>\n",
       "      <td>6</td>\n",
       "      <td>7515</td>\n",
       "      <td>1958</td>\n",
       "      <td>10497</td>\n",
       "      <td>1.0</td>\n",
       "      <td>Bunglow</td>\n",
       "    </tr>\n",
       "  </tbody>\n",
       "</table>\n",
       "</div>"
      ],
      "text/plain": [
       "       price  year_sold  property_tax  insurance  beds  baths  sqft  \\\n",
       "1878  385000       2002          1250        381     5      6  6381   \n",
       "1879  690000       2015          1553        473     5      6  6501   \n",
       "1880  600000       1999           942        287     5      6  7064   \n",
       "1881  759900       2009           803        245     5      6  7500   \n",
       "1882  735000       2015          1459        444     5      6  7515   \n",
       "\n",
       "      year_built  lot_size  basement property_type  \n",
       "1878        2004    224334       1.0       Bunglow  \n",
       "1879        1956     23086       1.0       Bunglow  \n",
       "1880        1995    217800       1.0       Bunglow  \n",
       "1881        2006      8886       1.0       Bunglow  \n",
       "1882        1958     10497       1.0       Bunglow  "
      ]
     },
     "execution_count": 2,
     "metadata": {},
     "output_type": "execute_result"
    }
   ],
   "source": [
    "# import the dataset\n",
    "df = pd.read_csv('real_estate.csv')\n",
    "df.tail()"
   ]
  },
  {
   "cell_type": "markdown",
   "metadata": {},
   "source": [
    "#### Now let's get started with cleaning the data!"
   ]
  },
  {
   "cell_type": "code",
   "execution_count": 3,
   "metadata": {},
   "outputs": [
    {
     "data": {
      "text/html": [
       "<div>\n",
       "<style scoped>\n",
       "    .dataframe tbody tr th:only-of-type {\n",
       "        vertical-align: middle;\n",
       "    }\n",
       "\n",
       "    .dataframe tbody tr th {\n",
       "        vertical-align: top;\n",
       "    }\n",
       "\n",
       "    .dataframe thead th {\n",
       "        text-align: right;\n",
       "    }\n",
       "</style>\n",
       "<table border=\"1\" class=\"dataframe\">\n",
       "  <thead>\n",
       "    <tr style=\"text-align: right;\">\n",
       "      <th></th>\n",
       "      <th>price</th>\n",
       "      <th>year_sold</th>\n",
       "      <th>property_tax</th>\n",
       "      <th>insurance</th>\n",
       "      <th>beds</th>\n",
       "      <th>baths</th>\n",
       "      <th>sqft</th>\n",
       "      <th>year_built</th>\n",
       "      <th>lot_size</th>\n",
       "      <th>basement</th>\n",
       "    </tr>\n",
       "  </thead>\n",
       "  <tbody>\n",
       "    <tr>\n",
       "      <th>count</th>\n",
       "      <td>1883.000000</td>\n",
       "      <td>1883.000000</td>\n",
       "      <td>1883.000000</td>\n",
       "      <td>1883.000000</td>\n",
       "      <td>1883.000000</td>\n",
       "      <td>1883.000000</td>\n",
       "      <td>1883.000000</td>\n",
       "      <td>1883.000000</td>\n",
       "      <td>1.883000e+03</td>\n",
       "      <td>1657.0</td>\n",
       "    </tr>\n",
       "    <tr>\n",
       "      <th>mean</th>\n",
       "      <td>422839.807754</td>\n",
       "      <td>2007.111524</td>\n",
       "      <td>466.777483</td>\n",
       "      <td>140.454063</td>\n",
       "      <td>3.420605</td>\n",
       "      <td>2.579926</td>\n",
       "      <td>2329.398832</td>\n",
       "      <td>1982.963887</td>\n",
       "      <td>1.339262e+04</td>\n",
       "      <td>1.0</td>\n",
       "    </tr>\n",
       "    <tr>\n",
       "      <th>std</th>\n",
       "      <td>151462.593276</td>\n",
       "      <td>5.196898</td>\n",
       "      <td>231.656645</td>\n",
       "      <td>72.929765</td>\n",
       "      <td>1.068554</td>\n",
       "      <td>0.945576</td>\n",
       "      <td>1336.991858</td>\n",
       "      <td>20.295945</td>\n",
       "      <td>4.494930e+04</td>\n",
       "      <td>0.0</td>\n",
       "    </tr>\n",
       "    <tr>\n",
       "      <th>min</th>\n",
       "      <td>200000.000000</td>\n",
       "      <td>1993.000000</td>\n",
       "      <td>88.000000</td>\n",
       "      <td>30.000000</td>\n",
       "      <td>1.000000</td>\n",
       "      <td>1.000000</td>\n",
       "      <td>500.000000</td>\n",
       "      <td>1880.000000</td>\n",
       "      <td>0.000000e+00</td>\n",
       "      <td>1.0</td>\n",
       "    </tr>\n",
       "    <tr>\n",
       "      <th>25%</th>\n",
       "      <td>300000.000000</td>\n",
       "      <td>2004.000000</td>\n",
       "      <td>320.000000</td>\n",
       "      <td>94.000000</td>\n",
       "      <td>3.000000</td>\n",
       "      <td>2.000000</td>\n",
       "      <td>1345.000000</td>\n",
       "      <td>1970.000000</td>\n",
       "      <td>1.542000e+03</td>\n",
       "      <td>1.0</td>\n",
       "    </tr>\n",
       "    <tr>\n",
       "      <th>50%</th>\n",
       "      <td>392000.000000</td>\n",
       "      <td>2007.000000</td>\n",
       "      <td>426.000000</td>\n",
       "      <td>125.000000</td>\n",
       "      <td>3.000000</td>\n",
       "      <td>3.000000</td>\n",
       "      <td>1907.000000</td>\n",
       "      <td>1986.000000</td>\n",
       "      <td>6.098000e+03</td>\n",
       "      <td>1.0</td>\n",
       "    </tr>\n",
       "    <tr>\n",
       "      <th>75%</th>\n",
       "      <td>525000.000000</td>\n",
       "      <td>2011.000000</td>\n",
       "      <td>569.000000</td>\n",
       "      <td>169.000000</td>\n",
       "      <td>4.000000</td>\n",
       "      <td>3.000000</td>\n",
       "      <td>3005.000000</td>\n",
       "      <td>2000.000000</td>\n",
       "      <td>1.176100e+04</td>\n",
       "      <td>1.0</td>\n",
       "    </tr>\n",
       "    <tr>\n",
       "      <th>max</th>\n",
       "      <td>800000.000000</td>\n",
       "      <td>2016.000000</td>\n",
       "      <td>4508.000000</td>\n",
       "      <td>1374.000000</td>\n",
       "      <td>5.000000</td>\n",
       "      <td>6.000000</td>\n",
       "      <td>8450.000000</td>\n",
       "      <td>2015.000000</td>\n",
       "      <td>1.220551e+06</td>\n",
       "      <td>1.0</td>\n",
       "    </tr>\n",
       "  </tbody>\n",
       "</table>\n",
       "</div>"
      ],
      "text/plain": [
       "               price    year_sold  property_tax    insurance         beds  \\\n",
       "count    1883.000000  1883.000000   1883.000000  1883.000000  1883.000000   \n",
       "mean   422839.807754  2007.111524    466.777483   140.454063     3.420605   \n",
       "std    151462.593276     5.196898    231.656645    72.929765     1.068554   \n",
       "min    200000.000000  1993.000000     88.000000    30.000000     1.000000   \n",
       "25%    300000.000000  2004.000000    320.000000    94.000000     3.000000   \n",
       "50%    392000.000000  2007.000000    426.000000   125.000000     3.000000   \n",
       "75%    525000.000000  2011.000000    569.000000   169.000000     4.000000   \n",
       "max    800000.000000  2016.000000   4508.000000  1374.000000     5.000000   \n",
       "\n",
       "             baths         sqft   year_built      lot_size  basement  \n",
       "count  1883.000000  1883.000000  1883.000000  1.883000e+03    1657.0  \n",
       "mean      2.579926  2329.398832  1982.963887  1.339262e+04       1.0  \n",
       "std       0.945576  1336.991858    20.295945  4.494930e+04       0.0  \n",
       "min       1.000000   500.000000  1880.000000  0.000000e+00       1.0  \n",
       "25%       2.000000  1345.000000  1970.000000  1.542000e+03       1.0  \n",
       "50%       3.000000  1907.000000  1986.000000  6.098000e+03       1.0  \n",
       "75%       3.000000  3005.000000  2000.000000  1.176100e+04       1.0  \n",
       "max       6.000000  8450.000000  2015.000000  1.220551e+06       1.0  "
      ]
     },
     "execution_count": 3,
     "metadata": {},
     "output_type": "execute_result"
    }
   ],
   "source": [
    "df.describe()"
   ]
  },
  {
   "cell_type": "markdown",
   "metadata": {},
   "source": [
    "## I. Handle Missing Data"
   ]
  },
  {
   "cell_type": "markdown",
   "metadata": {},
   "source": [
    "* For example, the `basement` feature? It has values **1** and **NaN**."
   ]
  },
  {
   "cell_type": "code",
   "execution_count": 4,
   "metadata": {},
   "outputs": [
    {
     "data": {
      "text/plain": [
       "array([nan,  1.])"
      ]
     },
     "execution_count": 4,
     "metadata": {},
     "output_type": "execute_result"
    }
   ],
   "source": [
    "# Display unique values of 'basement'\n",
    "df['basement'].unique()"
   ]
  },
  {
   "cell_type": "markdown",
   "metadata": {},
   "source": [
    "The **NaN** values are missing values. They actually indicate that the property does not have a `basement`. Therefore, let's replace them with the value **0**."
   ]
  },
  {
   "cell_type": "markdown",
   "metadata": {},
   "source": [
    "Using the `.fillna()` function replace **NaN** values with 0. "
   ]
  },
  {
   "cell_type": "code",
   "execution_count": 5,
   "metadata": {},
   "outputs": [],
   "source": [
    "# Replace missing basement values to 0\n",
    "# inplace=True updates the values in the original DataFrame.\n",
    "#df['basement']= df['basement'].fillna(0)\n",
    "df['basement'].fillna(0, inplace=True)"
   ]
  },
  {
   "cell_type": "code",
   "execution_count": 6,
   "metadata": {
    "scrolled": true
   },
   "outputs": [
    {
     "data": {
      "text/plain": [
       "array([0., 1.])"
      ]
     },
     "execution_count": 6,
     "metadata": {},
     "output_type": "execute_result"
    }
   ],
   "source": [
    "# Display unique values of 'basement'\n",
    "df['basement'].unique()"
   ]
  },
  {
   "cell_type": "code",
   "execution_count": 7,
   "metadata": {},
   "outputs": [],
   "source": [
    "# change the basement type to integer\n",
    "df.basement=df.basement.astype(int)"
   ]
  },
  {
   "cell_type": "markdown",
   "metadata": {},
   "source": [
    "    "
   ]
  },
  {
   "cell_type": "markdown",
   "metadata": {},
   "source": [
    "## II. Remove \"Guilty\" Outliers\n",
    "\n",
    "Outliers can cause problems with certain types of models. For example, linear regression models are less robust to outliers than decision tree models. If you have a good reason to remove an outlier, it will help your model's performance."
   ]
  },
  {
   "cell_type": "markdown",
   "metadata": {},
   "source": [
    "#### A. Plot the violin plots for <code style=\"color:steelblue\">'beds'</code>, <code style=\"color:steelblue\">'sqft'</code>, and <code style=\"color:steelblue\">'lot_size'</code>.\n",
    "* **Tip:** If you want to plot multiple charts in the same code cell, remember to separate them by <code style=\"color:steelblue\">plt.show()</code>, or else they will overlap.\n",
    "* Among those features, do any look like they have potential outliers?"
   ]
  },
  {
   "cell_type": "code",
   "execution_count": 8,
   "metadata": {},
   "outputs": [],
   "source": [
    "import warnings\n",
    "warnings.filterwarnings('ignore')"
   ]
  },
  {
   "cell_type": "code",
   "execution_count": 9,
   "metadata": {},
   "outputs": [
    {
     "data": {
      "image/png": "[encoded data removed]",
      "text/plain": [
       "<Figure size 640x480 with 1 Axes>"
      ]
     },
     "metadata": {},
     "output_type": "display_data"
    },
    {
     "data": {
      "image/png": "[encoded data removed]",
      "text/plain": [
       "<Figure size 640x480 with 1 Axes>"
      ]
     },
     "metadata": {},
     "output_type": "display_data"
    },
    {
     "data": {
      "image/png": "[encoded data removed]",
      "text/plain": [
       "<Figure size 640x480 with 1 Axes>"
      ]
     },
     "metadata": {},
     "output_type": "display_data"
    }
   ],
   "source": [
    "# box plot of beds\n",
    "sns.boxplot(df.beds, data=df)\n",
    "plt.show()\n",
    "# Violin plot of sqft\n",
    "sns.boxplot(df.sqft, data=df)\n",
    "plt.show()\n",
    "# Violin plot of lot_size\n",
    "sns.boxplot(df.lot_size, data=df)\n",
    "plt.show()"
   ]
  },
  {
   "cell_type": "markdown",
   "metadata": {},
   "source": [
    "Among those three features, it looks like <code style=\"color:steelblue\">lot_size</code> has a potential outlier! Look at its long and skinny tail. Let's look at the largest 5 lot sizes just to confirm.\n",
    "\n",
    "#### B. Sort <code style=\"color:steelblue\">df.lot_size</code> and display the top 5 samples.\n",
    "* You can sort a Series with the <code style=\"color:steelblue\">.sort_values()</code> function.\n",
    "* **Tip:** <code style=\"color:steelblue\">.sort_values()</code> has an argument called <code style=\"color:steelblue\">ascending=</code>. By default, it's <code style=\"color:steelblue\">True</code>\n",
    "* **Tip:** You can chain functions together. This exercise can be completed in 1 line of code."
   ]
  },
  {
   "cell_type": "code",
   "execution_count": 10,
   "metadata": {},
   "outputs": [
    {
     "data": {
      "text/plain": [
       "1115     435600\n",
       "1832     436035\n",
       "1876     436035\n",
       "1111     436471\n",
       "102     1220551\n",
       "Name: lot_size, dtype: int64"
      ]
     },
     "execution_count": 10,
     "metadata": {},
     "output_type": "execute_result"
    }
   ],
   "source": [
    "# Print top 5 homes with largest lot_size\n",
    "df.lot_size.sort_values().tail()"
   ]
  },
  {
   "cell_type": "markdown",
   "metadata": {},
   "source": [
    "The largest property has a lot_size of 1,220,551 sqft. The next largest has a lot_size of only 436,471 sqft.\n",
    "\n",
    "#### C. Display the entire row for that observation with the huge lot size.\n",
    "* How many bedrooms and bathrooms does the property have?\n",
    "* What's its property type?\n",
    "* What's its transaction price?\n",
    "* **Do you think this observation could be an outlier? Why?**"
   ]
  },
  {
   "cell_type": "code",
   "execution_count": 11,
   "metadata": {},
   "outputs": [
    {
     "data": {
      "text/html": [
       "<div>\n",
       "<style scoped>\n",
       "    .dataframe tbody tr th:only-of-type {\n",
       "        vertical-align: middle;\n",
       "    }\n",
       "\n",
       "    .dataframe tbody tr th {\n",
       "        vertical-align: top;\n",
       "    }\n",
       "\n",
       "    .dataframe thead th {\n",
       "        text-align: right;\n",
       "    }\n",
       "</style>\n",
       "<table border=\"1\" class=\"dataframe\">\n",
       "  <thead>\n",
       "    <tr style=\"text-align: right;\">\n",
       "      <th></th>\n",
       "      <th>price</th>\n",
       "      <th>year_sold</th>\n",
       "      <th>property_tax</th>\n",
       "      <th>insurance</th>\n",
       "      <th>beds</th>\n",
       "      <th>baths</th>\n",
       "      <th>sqft</th>\n",
       "      <th>year_built</th>\n",
       "      <th>lot_size</th>\n",
       "      <th>basement</th>\n",
       "      <th>property_type</th>\n",
       "    </tr>\n",
       "  </thead>\n",
       "  <tbody>\n",
       "    <tr>\n",
       "      <th>102</th>\n",
       "      <td>292999</td>\n",
       "      <td>2014</td>\n",
       "      <td>230</td>\n",
       "      <td>79</td>\n",
       "      <td>2</td>\n",
       "      <td>1</td>\n",
       "      <td>875</td>\n",
       "      <td>1950</td>\n",
       "      <td>1220551</td>\n",
       "      <td>0</td>\n",
       "      <td>Condo</td>\n",
       "    </tr>\n",
       "  </tbody>\n",
       "</table>\n",
       "</div>"
      ],
      "text/plain": [
       "      price  year_sold  property_tax  insurance  beds  baths  sqft  \\\n",
       "102  292999       2014           230         79     2      1   875   \n",
       "\n",
       "     year_built  lot_size  basement property_type  \n",
       "102        1950   1220551         0         Condo  "
      ]
     },
     "execution_count": 11,
     "metadata": {},
     "output_type": "execute_result"
    }
   ],
   "source": [
    "# print the record where lot_size = 1220551\n",
    "#df.iloc[102]\n",
    "df[df.lot_size == 1220551]"
   ]
  },
  {
   "cell_type": "markdown",
   "metadata": {},
   "source": [
    "#### D. Since all of the other observations are below 500,000 sqft, let's remove observations with <code style=\"color:steelblue\">lot_size</code> greater than 500,000 sqft.\n",
    "* You can use a boolean mask to do so (filter to keep only wanted observations).\n",
    "* Overwrite the existing <code style=\"color:steelblue\">df</code> object\n",
    "* Print the length of the new <code style=\"color:steelblue\">df</code> object."
   ]
  },
  {
   "cell_type": "code",
   "execution_count": 12,
   "metadata": {},
   "outputs": [],
   "source": [
    "# Drop the row with lot_size = 1220551\n",
    "df = df.drop(102)"
   ]
  },
  {
   "cell_type": "markdown",
   "metadata": {},
   "source": [
    "## IV. Save the Cleaned Dataset"
   ]
  },
  {
   "cell_type": "markdown",
   "metadata": {},
   "source": [
    "#### Finally, save the cleaned dataframe as  <code style=\"color:steelblue\">'cleaned_df.csv'</code>\n",
    "\n",
    "Before we move on to the next module, let's save the new dataframe we worked hard to clean.\n",
    "* We'll use Pandas's <code style=\"color:steelblue\">.to_csv()</code> function.\n",
    "* Set <code style=\"color:steelblue\">index=<span style=\"color:crimson\">None</span></code> so that Pandas drops the indices and only stores the actual data in the CSV."
   ]
  },
  {
   "cell_type": "code",
   "execution_count": 13,
   "metadata": {},
   "outputs": [],
   "source": [
    "# Save the cleaned dataset\n",
    "df.to_csv('cleaned_df.csv', index=None)"
   ]
  },
  {
   "cell_type": "markdown",
   "metadata": {},
   "source": [
    "\n",
    "We will use <code style=\"color:steelblue\">'cleaned_df.csv'</code> in all the other modules!\n",
    "In the next module, **Feature Engineering**, you'll use the cleaned dataset to create new features that will improve model performance."
   ]
  }
 ],
 "metadata": {
  "anaconda-cloud": {},
  "kernelspec": {
   "display_name": "Python 3 (ipykernel)",
   "language": "python",
   "name": "python3"
  },
  "language_info": {
   "codemirror_mode": {
    "name": "ipython",
    "version": 3
   },
   "file_extension": ".py",
   "mimetype": "text/x-python",
   "name": "python",
   "nbconvert_exporter": "python",
   "pygments_lexer": "ipython3",
   "version": "3.9.13"
  }
 },
 "nbformat": 4,
 "nbformat_minor": 1
}
